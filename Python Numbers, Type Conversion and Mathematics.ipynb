{
 "cells": [
  {
   "cell_type": "markdown",
   "metadata": {},
   "source": [
    "# Python Tutorial for Beginners 5: Python Numbers, Type Conversion and Mathematics (detail)\n",
    "We'll learn about the different numbers used in Python, how to convert from one data type to the other, and the mathematical operations supported in Python."
   ]
  },
  {
   "cell_type": "markdown",
   "metadata": {},
   "source": [
    "Python supports integers, floating-point numbers and complex numbers. They are defined as int, float, and complex classes in Python.\n",
    "\n",
    "Integers and floating points are separated by the presence or absence of a decimal point. For instance, 5 is an integer whereas 5.0 is a floating-point number.\n",
    "\n",
    "Complex numbers are written in the form, x + yj, where x is the real part and y is the imaginary part.\n",
    "\n",
    "We can use the type() function to know which class a variable or a value belongs to and isinstance() function to check if it belongs to a particular class."
   ]
  },
  {
   "cell_type": "code",
   "execution_count": 1,
   "metadata": {},
   "outputs": [
    {
     "name": "stdout",
     "output_type": "stream",
     "text": [
      "<class 'int'>\n",
      "<class 'float'>\n",
      "(8+3j)\n",
      "True\n"
     ]
    }
   ],
   "source": [
    "a = 5\n",
    "\n",
    "print(type(a))\n",
    "\n",
    "print(type(5.0))\n",
    "\n",
    "c = 5 + 3j\n",
    "print(c + 3)\n",
    "\n",
    "print(isinstance(c, complex))"
   ]
  },
  {
   "cell_type": "markdown",
   "metadata": {},
   "source": [
    "While integers can be of any length, a floating-point number is accurate only up to 15 decimal places (the 16th place is inaccurate).\n",
    "\n",
    "The numbers we deal with every day are of the decimal (base 10) number system. But computer programmers (generally embedded programmers) need to work with binary (base 2), hexadecimal (base 16) and octal (base 8) number systems.\n",
    "\n",
    "In Python, we can represent these numbers by appropriately placing a prefix before that number. The following table lists these prefixes."
   ]
  },
  {
   "cell_type": "raw",
   "metadata": {},
   "source": [
    "Number System\t       Prefix\n",
    "Binary\t              '0b' or '0B'\n",
    "Octal\t              '0o' or '0O'\n",
    "Hexadecimal\t          '0x' or '0X'"
   ]
  },
  {
   "cell_type": "code",
   "execution_count": 4,
   "metadata": {},
   "outputs": [
    {
     "name": "stdout",
     "output_type": "stream",
     "text": [
      "13\n"
     ]
    }
   ],
   "source": [
    "# Output: 107\n",
    "#print(0B1101011)\n",
    "\n",
    "# Output: 253 (251 + 2)\n",
    "#print(0xFB + 0b10)\n",
    "\n",
    "# Output: 13\n",
    "print(0o15)"
   ]
  },
  {
   "cell_type": "markdown",
   "metadata": {},
   "source": [
    "# Type Conversion\n",
    "We can convert one type of number into another. This is also known as coercion.\n",
    "\n",
    "Operations like addition, subtraction coerce integer to float implicitly (automatically), if one of the operands is float."
   ]
  },
  {
   "cell_type": "code",
   "execution_count": 3,
   "metadata": {},
   "outputs": [
    {
     "data": {
      "text/plain": [
       "3.0"
      ]
     },
     "execution_count": 3,
     "metadata": {},
     "output_type": "execute_result"
    }
   ],
   "source": [
    "1 + 2.0"
   ]
  },
  {
   "cell_type": "markdown",
   "metadata": {},
   "source": [
    "We can also use built-in functions like int(), float() and complex() to convert between types explicitly. These functions can even convert from strings.\n",
    "\n",
    "Note: When converting from float to integer, the number gets truncated (decimal parts are removed)."
   ]
  },
  {
   "cell_type": "code",
   "execution_count": 5,
   "metadata": {},
   "outputs": [
    {
     "name": "stdout",
     "output_type": "stream",
     "text": [
      "2\n",
      "-2\n",
      "5.0\n",
      "(3+5j)\n"
     ]
    }
   ],
   "source": [
    "print(int(2.3))\n",
    "\n",
    "print(int(-2.8))\n",
    "\n",
    "print(float(5))\n",
    "\n",
    "print(complex('3+5j'))\n"
   ]
  },
  {
   "cell_type": "markdown",
   "metadata": {},
   "source": [
    "# Python Decimal"
   ]
  },
  {
   "cell_type": "code",
   "execution_count": 7,
   "metadata": {},
   "outputs": [
    {
     "data": {
      "text/plain": [
       "True"
      ]
     },
     "execution_count": 7,
     "metadata": {},
     "output_type": "execute_result"
    }
   ],
   "source": [
    "(2.2 + 1.1) == 3.3000000000000003"
   ]
  },
  {
   "cell_type": "code",
   "execution_count": 10,
   "metadata": {},
   "outputs": [
    {
     "name": "stdout",
     "output_type": "stream",
     "text": [
      "3.3000000000000003\n"
     ]
    }
   ],
   "source": [
    "print(2.2 + 1.1)"
   ]
  },
  {
   "cell_type": "code",
   "execution_count": null,
   "metadata": {},
   "outputs": [],
   "source": []
  }
 ],
 "metadata": {
  "kernelspec": {
   "display_name": "Python 3",
   "language": "python",
   "name": "python3"
  },
  "language_info": {
   "codemirror_mode": {
    "name": "ipython",
    "version": 3
   },
   "file_extension": ".py",
   "mimetype": "text/x-python",
   "name": "python",
   "nbconvert_exporter": "python",
   "pygments_lexer": "ipython3",
   "version": "3.8.3"
  }
 },
 "nbformat": 4,
 "nbformat_minor": 4
}

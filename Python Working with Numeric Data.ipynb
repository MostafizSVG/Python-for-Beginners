{
 "cells": [
  {
   "cell_type": "markdown",
   "metadata": {},
   "source": [
    "# Python Tutorial for Beginners 3: Integers and Floats - Working with Numeric Data"
   ]
  },
  {
   "cell_type": "raw",
   "metadata": {},
   "source": [
    "In this Python Beginner Tutorial, we will begin learning about integers and floats. \n",
    "Integers and Floats allow us to work with numeric data in Python. \n",
    "We will be learning how to perform basic arithmetic, as well as how to compare numeric values."
   ]
  },
  {
   "cell_type": "markdown",
   "metadata": {},
   "source": [
    "Integer - Whole number"
   ]
  },
  {
   "cell_type": "markdown",
   "metadata": {},
   "source": [
    "Float - Decimal number"
   ]
  },
  {
   "cell_type": "code",
   "execution_count": 1,
   "metadata": {},
   "outputs": [
    {
     "name": "stdout",
     "output_type": "stream",
     "text": [
      "<class 'int'>\n",
      "<class 'float'>\n"
     ]
    }
   ],
   "source": [
    "a = 10\n",
    "b = 10.10\n",
    "\n",
    "print(type(a))\n",
    "\n",
    "print(type(b))"
   ]
  },
  {
   "cell_type": "markdown",
   "metadata": {},
   "source": [
    "# Few operations"
   ]
  },
  {
   "cell_type": "code",
   "execution_count": 1,
   "metadata": {},
   "outputs": [],
   "source": [
    "# Arithmetic Operators:\n",
    "# Addition:       3 + 2\n",
    "# Subtraction:    3 - 2\n",
    "# Multiplication: 3 * 2\n",
    "# Division:       3 / 2\n",
    "# Floor Division: 3 // 2\n",
    "\n",
    "# Exponent:       3 ** 2\n",
    "# Modulus:        3 % 2 -- it will give the remainder"
   ]
  },
  {
   "cell_type": "code",
   "execution_count": 9,
   "metadata": {},
   "outputs": [
    {
     "data": {
      "text/plain": [
       "1"
      ]
     },
     "execution_count": 9,
     "metadata": {},
     "output_type": "execute_result"
    }
   ],
   "source": [
    "3 % 2"
   ]
  },
  {
   "cell_type": "code",
   "execution_count": 4,
   "metadata": {},
   "outputs": [],
   "source": [
    "# Comparisons:\n",
    "# Equal:            3 == 2\n",
    "# Not Equal:        3 != 2\n",
    "# Greater Than:     3 > 2\n",
    "# Less Than:        3 < 2\n",
    "# Greater or Equal: 3 >= 2\n",
    "# Less or Equal:    3 <= 2"
   ]
  },
  {
   "cell_type": "code",
   "execution_count": 16,
   "metadata": {},
   "outputs": [
    {
     "data": {
      "text/plain": [
       "True"
      ]
     },
     "execution_count": 16,
     "metadata": {},
     "output_type": "execute_result"
    }
   ],
   "source": [
    "3 <= 2"
   ]
  },
  {
   "cell_type": "markdown",
   "metadata": {},
   "source": [
    "# Logical operators\n",
    "Logical operators are the and, or, not operators."
   ]
  },
  {
   "cell_type": "raw",
   "metadata": {},
   "source": [
    "Operator\tMeaning\t                                                Example\n",
    "and\t        True if both the operands are true\t                    x and y\n",
    "or\t        True if either of the operands is true\t                x or y\n",
    "not\t        True if operand is false (complements the operand)\t    not x"
   ]
  },
  {
   "cell_type": "code",
   "execution_count": 7,
   "metadata": {},
   "outputs": [
    {
     "name": "stdout",
     "output_type": "stream",
     "text": [
      "x and y is False\n",
      "x or y is True\n",
      "not x is False\n"
     ]
    }
   ],
   "source": [
    "x = True\n",
    "y = False\n",
    "\n",
    "print('x and y is',x and y)\n",
    "\n",
    "print('x or y is',x or y)\n",
    "\n",
    "print('not x is',not x)"
   ]
  },
  {
   "cell_type": "markdown",
   "metadata": {},
   "source": [
    "# Assignment operators\n",
    "Assignment operators are used in Python to assign values to variables."
   ]
  },
  {
   "cell_type": "raw",
   "metadata": {},
   "source": [
    "Operator\tExample\t  Equivalent to\n",
    "=\t        x = 5\t  x = 5\n",
    "+=\t        x += 5\t  x = x + 5\n",
    "-=\t        x -= 5\t  x = x - 5\n",
    "*=\t        x *= 5\t  x = x * 5\n",
    "/=\t        x /= 5\t  x = x / 5"
   ]
  },
  {
   "cell_type": "markdown",
   "metadata": {},
   "source": [
    "# Identity operators\n",
    "is and is not are the identity operators in Python. They are used to check if two values (or variables) are located on the same part of the memory. Two variables that are equal does not imply that they are identical."
   ]
  },
  {
   "cell_type": "raw",
   "metadata": {},
   "source": [
    "Operator\tMeaning\t                                                                    Example\n",
    "is\t        True if the operands are identical (refer to the same object)\t            x is True\n",
    "is not\t    True if the operands are not identical (do not refer to the same object)\tx is not True"
   ]
  },
  {
   "cell_type": "code",
   "execution_count": 8,
   "metadata": {},
   "outputs": [
    {
     "name": "stdout",
     "output_type": "stream",
     "text": [
      "False\n",
      "True\n",
      "False\n"
     ]
    }
   ],
   "source": [
    "x1 = 5\n",
    "y1 = 5\n",
    "x2 = 'Hello'\n",
    "y2 = 'Hello'\n",
    "x3 = [1,2,3]\n",
    "y3 = [1,2,3]\n",
    "\n",
    "# Output: False\n",
    "print(x1 is not y1)\n",
    "\n",
    "# Output: True\n",
    "print(x2 is y2)\n",
    "\n",
    "# Output: False\n",
    "print(x3 is y3)"
   ]
  },
  {
   "cell_type": "markdown",
   "metadata": {},
   "source": [
    "# Membership operators\n",
    "in and not in are the membership operators in Python. They are used to test whether a value or variable is found in a sequence (string, list, tuple, set and dictionary)."
   ]
  },
  {
   "cell_type": "raw",
   "metadata": {},
   "source": [
    "Operator\tMeaning\t                                                                Example\n",
    "in\t        True if value/variable is found in the sequence\t                        5 in x\n",
    "not in\t    True if value/variable is not found in the sequence\t                    5 not in x"
   ]
  },
  {
   "cell_type": "code",
   "execution_count": 17,
   "metadata": {},
   "outputs": [
    {
     "name": "stdout",
     "output_type": "stream",
     "text": [
      "True\n",
      "True\n",
      "True\n",
      "False\n"
     ]
    }
   ],
   "source": [
    "x = 'Hello world'\n",
    "y = {1:'a',2:'b'}\n",
    "\n",
    "# Output: True\n",
    "print('H' in x)\n",
    "\n",
    "# Output: True\n",
    "print('hello' not in x)\n",
    "\n",
    "# Output: True\n",
    "print(1 in y)\n",
    "\n",
    "# Output: False\n",
    "print('a' in y)"
   ]
  },
  {
   "cell_type": "markdown",
   "metadata": {},
   "source": [
    "# Precedence and Associativity of Operators in Python"
   ]
  },
  {
   "cell_type": "raw",
   "metadata": {},
   "source": [
    "There can be more than one operator in an expression.\n",
    "\n",
    "To evaluate these types of expressions there is a rule of precedence in Python. It guides the order in which these operations are carried out.\n",
    "\n",
    "For example, multiplication has higher precedence than subtraction."
   ]
  },
  {
   "cell_type": "code",
   "execution_count": 5,
   "metadata": {},
   "outputs": [
    {
     "name": "stdout",
     "output_type": "stream",
     "text": [
      "2\n"
     ]
    }
   ],
   "source": [
    "# Multiplication has higher precedence\n",
    "# than subtraction\n",
    "a = 10 - 4 * 2\n",
    "print(a)"
   ]
  },
  {
   "cell_type": "markdown",
   "metadata": {},
   "source": [
    "But we can change this order using parentheses () as it has higher precedence than multiplication."
   ]
  },
  {
   "cell_type": "code",
   "execution_count": 18,
   "metadata": {},
   "outputs": [
    {
     "name": "stdout",
     "output_type": "stream",
     "text": [
      "12\n"
     ]
    }
   ],
   "source": [
    "# Parentheses () has higher precedence\n",
    "print ((10 - 4) * 2)"
   ]
  },
  {
   "cell_type": "markdown",
   "metadata": {},
   "source": [
    "# The operator precedence in Python is listed in the following table. It is in descending order (upper group has higher precedence than the lower ones)."
   ]
  },
  {
   "cell_type": "raw",
   "metadata": {},
   "source": [
    "Operators\t      Meaning\n",
    "()\t              Parentheses\n",
    "**\t              Exponent\n",
    "+x, -x, ~x\t      Unary plus, Unary minus, Bitwise NOT\n",
    "*, /, //, %\t      Multiplication, Division, Floor division, Modulus\n",
    "+, -\t          Addition, Subtraction\n",
    "<<, >>\t          Bitwise shift operators\n",
    "&\t              Bitwise AND\n",
    "^\t              Bitwise XOR\n",
    "|\t              Bitwise OR\n",
    "not\t              Logical NOT\n",
    "and\t              Logical AND\n",
    "or\t              Logical OR"
   ]
  },
  {
   "cell_type": "markdown",
   "metadata": {},
   "source": [
    "# Associativity of Python Operators\n",
    "We can see in the above table that more than one operator exists in the same group. These operators have the same precedence.\n",
    "\n",
    "When two operators have the same precedence, associativity helps to determine the order of operations.\n",
    "\n",
    "Associativity is the order in which an expression is evaluated that has multiple operators of the same precedence. Almost all the operators have left-to-right associativity.\n",
    "\n",
    "For example, multiplication and floor division have the same precedence. Hence, if both of them are present in an expression, the left one is evaluated first."
   ]
  },
  {
   "cell_type": "code",
   "execution_count": 10,
   "metadata": {},
   "outputs": [
    {
     "name": "stdout",
     "output_type": "stream",
     "text": [
      "3\n",
      "0\n"
     ]
    }
   ],
   "source": [
    "# Left-right associativity\n",
    "# Output: 3\n",
    "print(5 * 2 // 3)\n",
    "\n",
    "# Shows left-right associativity\n",
    "# Output: 0\n",
    "print(5 * (2 // 3))"
   ]
  },
  {
   "cell_type": "markdown",
   "metadata": {},
   "source": [
    "# Exponent operator ** has right-to-left associativity in Python"
   ]
  },
  {
   "cell_type": "code",
   "execution_count": 11,
   "metadata": {},
   "outputs": [
    {
     "name": "stdout",
     "output_type": "stream",
     "text": [
      "512\n",
      "64\n"
     ]
    }
   ],
   "source": [
    "# Shows the right-left associativity of **\n",
    "# Output: 512, Since 2**(3**2) = 2**9\n",
    "print(2 ** 3 ** 2)\n",
    "\n",
    "# If 2 needs to be exponated fisrt, need to use ()\n",
    "# Output: 64\n",
    "print((2 ** 3) ** 2)"
   ]
  },
  {
   "cell_type": "markdown",
   "metadata": {},
   "source": [
    "# String but looks like number"
   ]
  },
  {
   "cell_type": "code",
   "execution_count": 12,
   "metadata": {},
   "outputs": [
    {
     "name": "stdout",
     "output_type": "stream",
     "text": [
      "100200\n"
     ]
    }
   ],
   "source": [
    "num1 = '100'\n",
    "num2 = '200'\n",
    "\n",
    "num = num1 + num2\n",
    "print(num)"
   ]
  },
  {
   "cell_type": "code",
   "execution_count": 13,
   "metadata": {},
   "outputs": [
    {
     "name": "stdout",
     "output_type": "stream",
     "text": [
      "300\n"
     ]
    }
   ],
   "source": [
    "# Convert these strings into numbers \n",
    "num = int(num1) + int(num2)\n",
    "print(num)"
   ]
  },
  {
   "cell_type": "markdown",
   "metadata": {},
   "source": [
    "# Thank You"
   ]
  },
  {
   "cell_type": "code",
   "execution_count": null,
   "metadata": {},
   "outputs": [],
   "source": []
  }
 ],
 "metadata": {
  "kernelspec": {
   "display_name": "Python 3",
   "language": "python",
   "name": "python3"
  },
  "language_info": {
   "codemirror_mode": {
    "name": "ipython",
    "version": 3
   },
   "file_extension": ".py",
   "mimetype": "text/x-python",
   "name": "python",
   "nbconvert_exporter": "python",
   "pygments_lexer": "ipython3",
   "version": "3.8.3"
  }
 },
 "nbformat": 4,
 "nbformat_minor": 4
}
